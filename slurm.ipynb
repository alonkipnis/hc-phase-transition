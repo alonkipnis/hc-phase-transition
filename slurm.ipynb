{
 "cells": [
  {
   "cell_type": "code",
   "execution_count": 1,
   "id": "expressed-liverpool",
   "metadata": {},
   "outputs": [],
   "source": [
    "from dask_jobqueue import SLURMCluster\n",
    "import os"
   ]
  },
  {
   "cell_type": "code",
   "execution_count": 2,
   "id": "hairy-solution",
   "metadata": {},
   "outputs": [],
   "source": [
    "cluster = SLURMCluster(queue = 'owners', cores=4, memory=\"4GB\",\n",
    "        local_directory=os.environ['GROUP_SCRATCH']+os.sep+os.environ['USER'])"
   ]
  },
  {
   "cell_type": "code",
   "execution_count": 34,
   "id": "infectious-above",
   "metadata": {},
   "outputs": [],
   "source": [
    "cluster.scale(100)"
   ]
  },
  {
   "cell_type": "markdown",
   "id": "raising-berry",
   "metadata": {},
   "source": [
    "### Set up experiment parameters:"
   ]
  },
  {
   "cell_type": "code",
   "execution_count": 46,
   "id": "sophisticated-module",
   "metadata": {},
   "outputs": [
    {
     "data": {
      "text/plain": [
       "{'nMonte': 100,\n",
       " 'len_r': 29,\n",
       " 'len_beta': 27,\n",
       " 'N': 10000,\n",
       " 'lo_n': [1000, 10000, 20000],\n",
       " 'lo_xi': [0.0, 0.5, 1.0]}"
      ]
     },
     "execution_count": 46,
     "metadata": {},
     "output_type": "execute_result"
    }
   ],
   "source": [
    "from hc_phase_diagram_Dask import *  # load experiment code\n",
    "\n",
    "with open('params.yaml') as file:   # load experiment parameters\n",
    "    params = yaml.load(file, Loader=yaml.FullLoader)\n",
    "params"
   ]
  },
  {
   "cell_type": "code",
   "execution_count": 47,
   "id": "certified-intranet",
   "metadata": {},
   "outputs": [
    {
     "name": "stdout",
     "output_type": "stream",
     "text": [
      "Total number of configurations = 729000\n"
     ]
    }
   ],
   "source": [
    "df = pd.DataFrame(gen_params(**params))  # expriment configurations\n",
    "ddf = dd.from_pandas(df, npartitions=4)\n",
    "print(f\"Total number of configurations = {len(ddf)}\")"
   ]
  },
  {
   "cell_type": "markdown",
   "id": "specialized-collaboration",
   "metadata": {},
   "source": [
    "### Running Jobs"
   ]
  },
  {
   "cell_type": "code",
   "execution_count": 48,
   "id": "representative-organ",
   "metadata": {},
   "outputs": [
    {
     "name": "stderr",
     "output_type": "stream",
     "text": [
      "/home/users/kipnisal/CJinstalled/miniconda/lib/python3.7/site-packages/distributed/node.py:155: UserWarning: Port 8787 is already in use.\n",
      "Perhaps you already have a cluster running?\n",
      "Hosting the HTTP server on port 42540 instead\n",
      "  http_address[\"port\"], self.http_server.port\n"
     ]
    }
   ],
   "source": [
    "from dask.distributed import (Client, progress)\n",
    "client = Client()"
   ]
  },
  {
   "cell_type": "code",
   "execution_count": 49,
   "id": "vanilla-satin",
   "metadata": {},
   "outputs": [
    {
     "data": {
      "text/plain": [
       "'http://127.0.0.1:42540/status'"
      ]
     },
     "execution_count": 49,
     "metadata": {},
     "output_type": "execute_result"
    }
   ],
   "source": [
    "client.dashboard_link"
   ]
  },
  {
   "cell_type": "code",
   "execution_count": 50,
   "id": "mysterious-chocolate",
   "metadata": {},
   "outputs": [],
   "source": [
    "# preparing futures:\n",
    "x = ddf.apply(lambda row : evaluate_iteration(n=row['n'], N=row['N'], ep=row['ep'],\n",
    "                                                mu=row['mu'], xi=row['xi'], metric='Hellinger'\n",
    "                                                              ), axis=1, meta=dict)"
   ]
  },
  {
   "cell_type": "code",
   "execution_count": null,
   "id": "asian-weapon",
   "metadata": {},
   "outputs": [
    {
     "name": "stderr",
     "output_type": "stream",
     "text": [
      "distributed.nanny - WARNING - Restarting worker\n",
      "distributed.nanny - WARNING - Worker process still alive after 3 seconds, killing\n",
      "distributed.nanny - WARNING - Restarting worker\n",
      "distributed.nanny - WARNING - Worker process still alive after 3 seconds, killing\n",
      "Exception ignored in: <Finalize object, dead>\n",
      "Traceback (most recent call last):\n",
      "  File \"/home/users/kipnisal/CJinstalled/miniconda/lib/python3.7/multiprocessing/util.py\", line 201, in __call__\n",
      "    res = self._callback(*self._args, **self._kwargs)\n",
      "  File \"/home/users/kipnisal/CJinstalled/miniconda/lib/python3.7/multiprocessing/synchronize.py\", line 87, in _cleanup\n",
      "    sem_unlink(name)\n",
      "FileNotFoundError: [Errno 2] No such file or directory\n",
      "Exception ignored in: <Finalize object, dead>\n",
      "Traceback (most recent call last):\n",
      "  File \"/home/users/kipnisal/CJinstalled/miniconda/lib/python3.7/multiprocessing/util.py\", line 201, in __call__\n",
      "    res = self._callback(*self._args, **self._kwargs)\n",
      "  File \"/home/users/kipnisal/CJinstalled/miniconda/lib/python3.7/multiprocessing/synchronize.py\", line 87, in _cleanup\n",
      "    sem_unlink(name)\n",
      "FileNotFoundError: [Errno 2] No such file or directory\n",
      "Exception ignored in: <Finalize object, dead>\n",
      "Traceback (most recent call last):\n",
      "  File \"/home/users/kipnisal/CJinstalled/miniconda/lib/python3.7/multiprocessing/util.py\", line 201, in __call__\n",
      "    res = self._callback(*self._args, **self._kwargs)\n",
      "  File \"/home/users/kipnisal/CJinstalled/miniconda/lib/python3.7/multiprocessing/synchronize.py\", line 87, in _cleanup\n",
      "    sem_unlink(name)\n",
      "FileNotFoundError: [Errno 2] No such file or directory\n",
      "Exception ignored in: <Finalize object, dead>\n",
      "Traceback (most recent call last):\n",
      "  File \"/home/users/kipnisal/CJinstalled/miniconda/lib/python3.7/multiprocessing/util.py\", line 201, in __call__\n",
      "    res = self._callback(*self._args, **self._kwargs)\n",
      "  File \"/home/users/kipnisal/CJinstalled/miniconda/lib/python3.7/multiprocessing/synchronize.py\", line 87, in _cleanup\n",
      "    sem_unlink(name)\n",
      "FileNotFoundError: [Errno 2] No such file or directory\n",
      "Exception ignored in: <Finalize object, dead>\n",
      "Traceback (most recent call last):\n",
      "  File \"/home/users/kipnisal/CJinstalled/miniconda/lib/python3.7/multiprocessing/util.py\", line 201, in __call__\n",
      "    res = self._callback(*self._args, **self._kwargs)\n",
      "  File \"/home/users/kipnisal/CJinstalled/miniconda/lib/python3.7/multiprocessing/synchronize.py\", line 87, in _cleanup\n",
      "    sem_unlink(name)\n",
      "FileNotFoundError: [Errno 2] No such file or directory\n",
      "Exception ignored in: <Finalize object, dead>\n",
      "Traceback (most recent call last):\n",
      "  File \"/home/users/kipnisal/CJinstalled/miniconda/lib/python3.7/multiprocessing/util.py\", line 201, in __call__\n",
      "    res = self._callback(*self._args, **self._kwargs)\n",
      "  File \"/home/users/kipnisal/CJinstalled/miniconda/lib/python3.7/multiprocessing/synchronize.py\", line 87, in _cleanup\n",
      "    sem_unlink(name)\n",
      "FileNotFoundError: [Errno 2] No such file or directory\n",
      "distributed.nanny - WARNING - Restarting worker\n"
     ]
    }
   ],
   "source": [
    "from dask.diagnostics import ProgressBar\n",
    "\n",
    "# submiting futures:\n",
    "with ProgressBar():\n",
    "    y = x.compute()"
   ]
  },
  {
   "cell_type": "code",
   "execution_count": null,
   "id": "white-roots",
   "metadata": {},
   "outputs": [],
   "source": [
    "import pandas as pd\n",
    "\n",
    "# rearrange results \n",
    "df_res = pd.json_normalize(y)\n",
    "results = pd.concat([df, df_res], axis=1)"
   ]
  },
  {
   "cell_type": "code",
   "execution_count": null,
   "id": "spiritual-aspect",
   "metadata": {},
   "outputs": [],
   "source": [
    "results.to_csv('results.csv')"
   ]
  },
  {
   "cell_type": "code",
   "execution_count": null,
   "id": "ecological-fetish",
   "metadata": {},
   "outputs": [],
   "source": []
  }
 ],
 "metadata": {
  "kernelspec": {
   "display_name": "Python 3",
   "language": "python",
   "name": "python3"
  },
  "language_info": {
   "codemirror_mode": {
    "name": "ipython",
    "version": 3
   },
   "file_extension": ".py",
   "mimetype": "text/x-python",
   "name": "python",
   "nbconvert_exporter": "python",
   "pygments_lexer": "ipython3",
   "version": "3.7.6"
  }
 },
 "nbformat": 4,
 "nbformat_minor": 5
}
